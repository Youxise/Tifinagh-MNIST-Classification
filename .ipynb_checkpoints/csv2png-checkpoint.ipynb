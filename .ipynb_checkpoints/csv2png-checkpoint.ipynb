{
 "cells": [
  {
   "cell_type": "code",
   "execution_count": 2,
   "metadata": {
    "scrolled": true
   },
   "outputs": [
    {
     "name": "stdout",
     "output_type": "stream",
     "text": [
      "\n",
      "Prcessing Alphabet - A\n",
      "\n",
      "Prcessing Alphabet - Ԑ\n",
      "\n",
      "Prcessing Alphabet - B\n",
      "\n",
      "Prcessing Alphabet - C\n",
      "\n",
      "Prcessing Alphabet - Č\n",
      "\n",
      "Prcessing Alphabet - D\n",
      "\n",
      "Prcessing Alphabet - Ḍ\n",
      "\n",
      "Prcessing Alphabet - E\n",
      "\n",
      "Prcessing Alphabet - F\n",
      "\n",
      "Prcessing Alphabet - G\n",
      "\n",
      "Prcessing Alphabet - Ǧ\n",
      "\n",
      "Prcessing Alphabet - H\n",
      "\n",
      "Prcessing Alphabet - Ḥ\n",
      "\n",
      "Prcessing Alphabet - I\n",
      "\n",
      "Prcessing Alphabet - J\n",
      "\n",
      "Prcessing Alphabet - K\n",
      "\n",
      "Prcessing Alphabet - L\n",
      "\n",
      "Prcessing Alphabet - M\n",
      "\n",
      "Prcessing Alphabet - N\n",
      "\n",
      "Prcessing Alphabet - Q\n",
      "\n",
      "Prcessing Alphabet - Γ\n",
      "\n",
      "Prcessing Alphabet - R\n",
      "\n",
      "Prcessing Alphabet - Ṛ\n",
      "\n",
      "Prcessing Alphabet - S\n",
      "\n",
      "Prcessing Alphabet - Ṣ\n"
     ]
    },
    {
     "ename": "KeyboardInterrupt",
     "evalue": "",
     "output_type": "error",
     "traceback": [
      "\u001b[1;31m---------------------------------------------------------------------------\u001b[0m",
      "\u001b[1;31mKeyboardInterrupt\u001b[0m                         Traceback (most recent call last)",
      "Cell \u001b[1;32mIn[2], line 43\u001b[0m\n\u001b[0;32m     40\u001b[0m     \u001b[38;5;28mprint\u001b[39m (\u001b[38;5;124m\"\u001b[39m\u001b[38;5;124mPrcessing Alphabet - \u001b[39m\u001b[38;5;124m\"\u001b[39m \u001b[38;5;241m+\u001b[39m \u001b[38;5;28mstr\u001b[39m (last_digit_Name))\n\u001b[0;32m     42\u001b[0m image_Path \u001b[38;5;241m=\u001b[39m image_Folder_Path \u001b[38;5;241m+\u001b[39m \u001b[38;5;124m'\u001b[39m\u001b[38;5;130;01m\\\\\u001b[39;00m\u001b[38;5;124m'\u001b[39m \u001b[38;5;241m+\u001b[39m last_digit_Name \u001b[38;5;241m+\u001b[39m \u001b[38;5;124m'\u001b[39m\u001b[38;5;130;01m\\\\\u001b[39;00m\u001b[38;5;124m'\u001b[39m \u001b[38;5;241m+\u001b[39m \u001b[38;5;28mstr\u001b[39m(last_digit_Name) \u001b[38;5;241m+\u001b[39m \u001b[38;5;124m'\u001b[39m\u001b[38;5;124m-\u001b[39m\u001b[38;5;124m'\u001b[39m \u001b[38;5;241m+\u001b[39m \u001b[38;5;28mstr\u001b[39m(count) \u001b[38;5;241m+\u001b[39m \u001b[38;5;124m'\u001b[39m\u001b[38;5;124m.png\u001b[39m\u001b[38;5;124m'\u001b[39m\n\u001b[1;32m---> 43\u001b[0m \u001b[43mnew_image\u001b[49m\u001b[38;5;241;43m.\u001b[39;49m\u001b[43msave\u001b[49m\u001b[43m(\u001b[49m\u001b[43mimage_Path\u001b[49m\u001b[43m)\u001b[49m\n\u001b[0;32m     44\u001b[0m count \u001b[38;5;241m=\u001b[39m count \u001b[38;5;241m+\u001b[39m \u001b[38;5;241m1\u001b[39m\n\u001b[0;32m     46\u001b[0m \u001b[38;5;28;01mif\u001b[39;00m count \u001b[38;5;241m%\u001b[39m \u001b[38;5;241m1000\u001b[39m \u001b[38;5;241m==\u001b[39m \u001b[38;5;241m0\u001b[39m:\n",
      "File \u001b[1;32mC:\\Program Files\\Python312\\Lib\\site-packages\\PIL\\Image.py:2429\u001b[0m, in \u001b[0;36mImage.save\u001b[1;34m(self, fp, format, **params)\u001b[0m\n\u001b[0;32m   2427\u001b[0m created \u001b[38;5;241m=\u001b[39m \u001b[38;5;28;01mFalse\u001b[39;00m\n\u001b[0;32m   2428\u001b[0m \u001b[38;5;28;01mif\u001b[39;00m open_fp:\n\u001b[1;32m-> 2429\u001b[0m     created \u001b[38;5;241m=\u001b[39m \u001b[38;5;129;01mnot\u001b[39;00m \u001b[43mos\u001b[49m\u001b[38;5;241;43m.\u001b[39;49m\u001b[43mpath\u001b[49m\u001b[38;5;241;43m.\u001b[39;49m\u001b[43mexists\u001b[49m\u001b[43m(\u001b[49m\u001b[43mfilename\u001b[49m\u001b[43m)\u001b[49m\n\u001b[0;32m   2430\u001b[0m     \u001b[38;5;28;01mif\u001b[39;00m params\u001b[38;5;241m.\u001b[39mget(\u001b[38;5;124m\"\u001b[39m\u001b[38;5;124mappend\u001b[39m\u001b[38;5;124m\"\u001b[39m, \u001b[38;5;28;01mFalse\u001b[39;00m):\n\u001b[0;32m   2431\u001b[0m         \u001b[38;5;66;03m# Open also for reading (\"+\"), because TIFF save_all\u001b[39;00m\n\u001b[0;32m   2432\u001b[0m         \u001b[38;5;66;03m# writer needs to go back and edit the written data.\u001b[39;00m\n\u001b[0;32m   2433\u001b[0m         fp \u001b[38;5;241m=\u001b[39m builtins\u001b[38;5;241m.\u001b[39mopen(filename, \u001b[38;5;124m\"\u001b[39m\u001b[38;5;124mr+b\u001b[39m\u001b[38;5;124m\"\u001b[39m)\n",
      "\u001b[1;31mKeyboardInterrupt\u001b[0m: "
     ]
    }
   ],
   "source": [
    "import csv\n",
    "from PIL import Image\n",
    "import numpy as np\n",
    "import os\n",
    "\n",
    "last_digit_Name =  None\n",
    "\n",
    "#your path to target folder to save images. Note: Path should have 33 empty folder with name as Alphabet_list\n",
    "image_Folder_Path = \"img\" \n",
    "\n",
    "\n",
    "## uncomment according to the version you want \n",
    "#csv_File_Path = \"Latin-version.csv\"\n",
    "csv_File_Path = \"Tifinagh-version.csv\" \n",
    "\n",
    "#Alphabet_list = [\"A\",\"Ԑ\",\"B\",\"C\",\"Č\",\"D\",\"Ḍ\",\"E\",\"F\",\"G\",\"Ǧ\",\"H\",\"Ḥ\",\"I\",\"J\",\"K\",\"L\",\"M\",\"N\",\"Q\",\"Γ\",\"R\",\"Ṛ\",\"S\",\"Ṣ\",\"T\",\"Ṭ\",\n",
    "#                 \"TT\",\"U\",\"W\",\"X\",\"Y\",\"Z\",\"Ẓ\"]\n",
    "\n",
    "Alphabet_list = [\"ⴰ\",\"ⴱ\",\"ⵛ\",\"ⴷ\",\"ⴹ\",\"ⵄ\",\"ⴼ\",\"ⴳ\",\"ⵖ\",\"ⴳⵯ\",\"ⵀ\",\"ⵃ\",\"ⵊ\",\"ⴽ\",\"ⴽⵯ\",\"ⵍ\",\"ⵎ\",\"ⵏ\",\"ⵇ\",\"ⵔ\",\"ⵕ\",\"ⵙ\",\"ⵚ\",\"ⵜ\",\"ⵟ\",\n",
    "                \"ⵡ\",\"ⵅ\",\"ⵢ\",\"ⵣ\",\"ⵥ\",\"ⴻ\",\"ⵉ\",\"ⵓ\"]\n",
    "\n",
    "for alphabet in Alphabet_list:\n",
    "    path = image_Folder_Path + '\\\\' + alphabet\n",
    "    if not os.path.exists(path):\n",
    "        os.makedirs(path)\n",
    "\n",
    "with open(csv_File_Path, newline='') as csvfile:\n",
    "    reader = csv.reader(csvfile, delimiter=',', quotechar='|')\n",
    "    count = 0\n",
    "    for row in reader:\n",
    "        digit_Name = row.pop(0)\n",
    "        image_array = np.asarray(row)\n",
    "        image_array = image_array.reshape(28, 28)\n",
    "        new_image = Image.fromarray(image_array.astype('uint8'))\n",
    "\n",
    "        if last_digit_Name != str(Alphabet_list[(int)(digit_Name)]):\n",
    "            last_digit_Name = str(Alphabet_list[(int)(digit_Name)])\n",
    "            count = 0\n",
    "            print (\"\")\n",
    "            print (\"Prcessing Alphabet - \" + str (last_digit_Name))\n",
    "        \n",
    "        image_Path = image_Folder_Path + '\\\\' + last_digit_Name + '\\\\' + str(last_digit_Name) + '-' + str(count) + '.png'\n",
    "        new_image.save(image_Path)\n",
    "        count = count + 1\n",
    "\n",
    "        if count % 1000 == 0:\n",
    "            print (\"Images processed: \" + str(count))"
   ]
  },
  {
   "cell_type": "code",
   "execution_count": null,
   "metadata": {},
   "outputs": [],
   "source": []
  }
 ],
 "metadata": {
  "kernelspec": {
   "display_name": "Python 3 (ipykernel)",
   "language": "python",
   "name": "python3"
  },
  "language_info": {
   "codemirror_mode": {
    "name": "ipython",
    "version": 3
   },
   "file_extension": ".py",
   "mimetype": "text/x-python",
   "name": "python",
   "nbconvert_exporter": "python",
   "pygments_lexer": "ipython3",
   "version": "3.12.0"
  }
 },
 "nbformat": 4,
 "nbformat_minor": 4
}
